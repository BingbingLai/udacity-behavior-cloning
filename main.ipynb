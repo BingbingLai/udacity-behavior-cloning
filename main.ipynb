{
 "cells": [
  {
   "cell_type": "code",
   "execution_count": 6,
   "metadata": {},
   "outputs": [
    {
     "name": "stdout",
     "output_type": "stream",
     "text": [
      "dir: data, images: 16072\n",
      "dir: 1_recovery_data, images: 1914\n",
      "dir: reverse-data, images: 1956\n",
      "dir: more-curves2-good-data, images: 940\n",
      "dir: more-curves3-good-data, images: 1452\n",
      "total images 22334\n",
      "total measurements 22334\n",
      "(22334, 160, 320, 3)\n",
      "(22334,)\n"
     ]
    },
    {
     "name": "stderr",
     "output_type": "stream",
     "text": [
      "/home/carnd/anaconda3/envs/carnd-term1/lib/python3.5/site-packages/ipykernel_launcher.py:88: UserWarning: Update your `Conv2D` call to the Keras 2 API: `Conv2D(24, (5, 5), strides=(2, 2), activation=\"relu\")`\n",
      "/home/carnd/anaconda3/envs/carnd-term1/lib/python3.5/site-packages/ipykernel_launcher.py:89: UserWarning: Update your `Conv2D` call to the Keras 2 API: `Conv2D(36, (5, 5), strides=(2, 2), activation=\"relu\")`\n",
      "/home/carnd/anaconda3/envs/carnd-term1/lib/python3.5/site-packages/ipykernel_launcher.py:90: UserWarning: Update your `Conv2D` call to the Keras 2 API: `Conv2D(48, (5, 5), strides=(2, 2), activation=\"relu\")`\n",
      "/home/carnd/anaconda3/envs/carnd-term1/lib/python3.5/site-packages/ipykernel_launcher.py:91: UserWarning: Update your `Conv2D` call to the Keras 2 API: `Conv2D(64, (3, 3), activation=\"relu\")`\n",
      "/home/carnd/anaconda3/envs/carnd-term1/lib/python3.5/site-packages/ipykernel_launcher.py:92: UserWarning: Update your `Conv2D` call to the Keras 2 API: `Conv2D(64, (3, 3), activation=\"relu\")`\n"
     ]
    },
    {
     "name": "stdout",
     "output_type": "stream",
     "text": [
      "Printing...\n"
     ]
    },
    {
     "name": "stderr",
     "output_type": "stream",
     "text": [
      "/home/carnd/anaconda3/envs/carnd-term1/lib/python3.5/site-packages/ipykernel_launcher.py:102: UserWarning: The `nb_epoch` argument in `fit` has been renamed `epochs`.\n"
     ]
    },
    {
     "name": "stdout",
     "output_type": "stream",
     "text": [
      "Train on 17867 samples, validate on 4467 samples\n",
      "Epoch 1/3\n",
      "17867/17867 [==============================] - 23s 1ms/step - loss: 0.0137 - acc: 0.5604 - val_loss: 0.0264 - val_acc: 0.5391\n",
      "Epoch 2/3\n",
      "17867/17867 [==============================] - 22s 1ms/step - loss: 0.0125 - acc: 0.5604 - val_loss: 0.0270 - val_acc: 0.5391\n",
      "Epoch 3/3\n",
      "17867/17867 [==============================] - 22s 1ms/step - loss: 0.0125 - acc: 0.5604 - val_loss: 0.0256 - val_acc: 0.5391\n",
      "Done\n"
     ]
    }
   ],
   "source": [
    "import cv2\n",
    "import numpy as np\n",
    "import csv\n",
    "from keras.models import Sequential\n",
    "from keras.layers import Flatten, Dense, Lambda, Cropping2D, Dropout\n",
    "import keras\n",
    "from keras.layers.convolutional import MaxPooling2D\n",
    "from keras.layers.convolutional import Convolution2D\n",
    "from keras.layers import pooling\n",
    "from keras.optimizers import Adam\n",
    "\n",
    "\n",
    "_CORRECTION_NUM = 0.02\n",
    "\n",
    "# ['center', 'left', 'right', 'steering', 'throttle', 'brake', 'speed']\n",
    "\n",
    "def helper(parent_dir):\n",
    "    lines = []\n",
    "    csv_file = './{}/driving_log.csv'.format(parent_dir)\n",
    "    image_file_base = './{}/IMG/'.format(parent_dir)\n",
    "\n",
    "    with open(csv_file) as csvfile:\n",
    "        reader = csv.reader(csvfile)\n",
    "        for line in reader:\n",
    "            lines.append(line)\n",
    "\n",
    "    return_images = []\n",
    "    return_measurements = []\n",
    "\n",
    "    lines = iter(lines)\n",
    "    # remove headers\n",
    "    _ = next(lines)\n",
    "\n",
    "    for line in lines:\n",
    "        # center\n",
    "        source_path = line[0]\n",
    "        filename = source_path.split('/')[-1]\n",
    "        current_path = image_file_base + filename\n",
    "        image = cv2.imread(current_path)\n",
    "        return_images.append(image)\n",
    "        return_images.append(cv2.flip(image, 1))\n",
    "        measurement = float(line[3])\n",
    "        return_measurements.append(measurement)\n",
    "        return_measurements.append(measurement * -1.0)\n",
    "\n",
    "    return return_images, return_measurements\n",
    "\n",
    "\n",
    "def train():\n",
    "    parent_dirs = [\n",
    "        'data',\n",
    "        '1_recovery_data',\n",
    "        'reverse-data',\n",
    "\n",
    "        # NOTE: trying not using more-curves\n",
    "        # it just bump into the bridge but it succesfully avoiding drifting into water\n",
    "        # using just more-curves2 and more-curves3\n",
    "    \n",
    "        # 'more-curves', \n",
    "        'more-curves2-good-data',\n",
    "        'more-curves3-good-data',\n",
    "        'more-curves4',\n",
    "\n",
    "    ]\n",
    "\n",
    "    all_images = []\n",
    "    all_measurements = []\n",
    "    for the_dir in parent_dirs:\n",
    "        _images, _measurements = helper(the_dir)\n",
    "        print('dir: {}, images: {}'.format(the_dir, len(_images)))\n",
    "        all_images.extend(_images)\n",
    "        all_measurements.extend(_measurements)\n",
    "\n",
    "\n",
    "    print('total images', len(all_images))\n",
    "    print('total measurements', len(all_measurements))\n",
    "\n",
    "\n",
    "    X_train = np.array(all_images)\n",
    "    y_train = np.array(all_measurements)\n",
    "\n",
    "    print(X_train.shape)\n",
    "    print(y_train.shape)\n",
    "\n",
    "    _DROPOUT_RATE = 0.2\n",
    "\n",
    "    model = Sequential()\n",
    "    model.add(Lambda(lambda x: x / 255.0 -0.5, input_shape=(160,320,3)))\n",
    "    model.add(Cropping2D(cropping=((70,25), (0,0))))\n",
    "    model.add(Convolution2D(24,5,5, subsample=(2,2), activation='relu'))\n",
    "    model.add(Convolution2D(36,5,5, subsample=(2,2), activation='relu'))\n",
    "    model.add(Convolution2D(48,5,5, subsample=(2,2), activation='relu'))\n",
    "    model.add(Convolution2D(64,3,3, activation='relu'))\n",
    "    model.add(Convolution2D(64,3,3, activation='relu'))\n",
    "    model.add(Flatten())\n",
    "    model.add(Dense(100))\n",
    "    model.add(Dense(50))\n",
    "    model.add(Dense(10))\n",
    "    model.add(Dense(1))\n",
    "    model.add(Dropout(_DROPOUT_RATE))\n",
    "\n",
    "    model.compile(optimizer=Adam(lr=0.001), loss='mse' , metrics=['accuracy'])\n",
    "    print('Printing...')\n",
    "    model.fit(X_train, y_train, validation_split=0.2, shuffle=True, nb_epoch=5)\n",
    "    # increasing epoch doesn't seem to help\n",
    "    # model.fit(X_train, y_train, validation_split=0.2, shuffle=True, nb_epoch=10)\n",
    "    model.save('model.h5')\n",
    "    print('Done')\n",
    "\n",
    "train()"
   ]
  }
 ],
 "metadata": {
  "kernelspec": {
   "display_name": "Python 3",
   "language": "python",
   "name": "python3"
  },
  "language_info": {
   "codemirror_mode": {
    "name": "ipython",
    "version": 3
   },
   "file_extension": ".py",
   "mimetype": "text/x-python",
   "name": "python",
   "nbconvert_exporter": "python",
   "pygments_lexer": "ipython3",
   "version": "3.5.2"
  },
  "widgets": {
   "state": {},
   "version": "1.1.2"
  }
 },
 "nbformat": 4,
 "nbformat_minor": 2
}
